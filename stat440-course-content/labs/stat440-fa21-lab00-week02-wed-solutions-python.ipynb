{
 "cells": [
  {
   "cell_type": "markdown",
   "id": "1fe51f66",
   "metadata": {},
   "source": [
    "# STAT 440 Statistical Data Management - Fall 2021\n",
    "## Week02 Practice Lab00\n",
    "### Only the driver should submit this assignment into their individual student repo. Save the filename as lab00-week02-wed-netID.Rmd. Then render this file to .html when completed.\n",
    "\n",
    "**#1** Using Markdown syntax, make a numbered list with the first and last names of everyone at your station. Your name should appear in bold text.\n",
    "\n",
    "Answers will vary, but must be a proper list with Driver's name in bold text.\n",
    "\n",
    "**#2** Each lab assignment is worth how many points?\n",
    "\n",
    "10\n",
    "\n",
    "**#3** Which of the following is a tokenized URL?\n",
    "\n",
    "a. https://data.urbanaillinois.us/api/views/6gtk-bwms\n",
    "\n",
    "b. https://github-dev.cs.illinois.edu/stat440-fa21/stat440-fa21-course-content/blob/master/data/trips440-data.txt\n",
    "\n",
    "c. https://raw.github-dev.cs.illinois.edu/stat440-fa21/stat440-fa21-course-content/master/data/chicago-food-inspections-data.csv?token=AAABJG5E3NYYWDFJPNK77YDBG7QAM\n",
    "\n",
    "d. https://data.ccrpc.org/dataset/traffic-crashes/resource/e8adba01-2e38-4a33-a8dc-571f05d76ffa\n",
    "\n",
    "e. None of the Above\n",
    "\n",
    "c is a tokenized URL.\n",
    "\n",
    "**#4** Consider the information in the image below and the image itself as a data set. Make one Markdown list: one list contains 3 questions about the data set (i.e. things you want to know about the data). \n",
    "\n",
    "![](https://uofi.box.com/shared/static/7ina73ut31ncrx2ep3ed3j7x5hh2z0ws.png)\n",
    "\n",
    "- What do the colors mean?\n",
    "\n",
    "- Does the length of the object mean?\n",
    "\n",
    "- Does the direction or orientation of the lines or colors mean anything?\n",
    "\n",
    "**#5** Import the Urbana Market at the Square Vendor Products Data using one programming language software and the data URL https://data.urbanaillinois.us/api/views/6gtk-bwms/rows.csv?accessType=DOWNLOAD. Now, print the structure of the data. **This structure should match the data description below. FYI, to import this dataset, you'll need a code chunk (RStudio) or code cell (Jupyter Lab).**\n",
    "\n",
    "  - The dataset (a .csv file) contains 1185 rows and 15 columns in which each product being sold at the Market at the Square event is included along with the vendor, varieties of the product, and which months the product was available. The Market at the Square is a seasonal farmer's market that includes crafts as well as food products. This data was last updated in 2018. The original source is the City of Urbana."
   ]
  },
  {
   "cell_type": "code",
   "execution_count": 2,
   "id": "cb5ca272",
   "metadata": {},
   "outputs": [
    {
     "name": "stdout",
     "output_type": "stream",
     "text": [
      "<class 'pandas.core.frame.DataFrame'>\n",
      "RangeIndex: 1185 entries, 0 to 1184\n",
      "Data columns (total 15 columns):\n",
      " #   Column     Non-Null Count  Dtype \n",
      "---  ------     --------------  ----- \n",
      " 0   Product    1185 non-null   object\n",
      " 1   Company    1185 non-null   object\n",
      " 2   Varieties  1185 non-null   int64 \n",
      " 3   January    1185 non-null   object\n",
      " 4   February   1185 non-null   object\n",
      " 5   March      1185 non-null   object\n",
      " 6   April      1185 non-null   object\n",
      " 7   May        1185 non-null   object\n",
      " 8   June       1185 non-null   object\n",
      " 9   July       1185 non-null   object\n",
      " 10  August     1185 non-null   object\n",
      " 11  September  1185 non-null   object\n",
      " 12  October    1185 non-null   object\n",
      " 13  November   1185 non-null   object\n",
      " 14  December   1185 non-null   object\n",
      "dtypes: int64(1), object(14)\n",
      "memory usage: 139.0+ KB\n"
     ]
    }
   ],
   "source": [
    "import pandas as pd\n",
    "data05 = pd.read_csv(\"https://data.urbanaillinois.us/api/views/6gtk-bwms/rows.csv?accessType=DOWNLOAD\")\n",
    "data05.info()"
   ]
  },
  {
   "cell_type": "markdown",
   "id": "38f9205b",
   "metadata": {},
   "source": [
    "**#6** Import the Nuisance Complaints Data using one programming language and the data URL https://data.urbanaillinois.us/api/views/tsn9-95m3/rows.tsv?accessType=DOWNLOAD&bom=true.\n",
    "\n",
    "  - The dataset (a .tsv file) contains 10619 rows and 14 columns in which each complaint is recorded. The columns include details about the complaint and location of the nuisance. The original source is the City of Urbana."
   ]
  },
  {
   "cell_type": "code",
   "execution_count": 2,
   "id": "a5e4c37b",
   "metadata": {},
   "outputs": [
    {
     "name": "stdout",
     "output_type": "stream",
     "text": [
      "<class 'pandas.core.frame.DataFrame'>\n",
      "RangeIndex: 10733 entries, 0 to 10732\n",
      "Data columns (total 14 columns):\n",
      " #   Column                       Non-Null Count  Dtype  \n",
      "---  ------                       --------------  -----  \n",
      " 0   File Number                  10733 non-null  object \n",
      " 1   Date Reported                10733 non-null  object \n",
      " 2   Year Reported                10733 non-null  int64  \n",
      " 3   Month Reported               10733 non-null  int64  \n",
      " 4   Housing Block                10733 non-null  object \n",
      " 5   Street Name                  10732 non-null  object \n",
      " 6   Date Notice Mailed or Given  7518 non-null   object \n",
      " 7   Type of Complaint            10598 non-null  object \n",
      " 8   Disposition                  10568 non-null  object \n",
      " 9   File Close Date              7718 non-null   object \n",
      " 10  Method Submitted             10691 non-null  object \n",
      " 11  Submitted Online?            10733 non-null  bool   \n",
      " 12  Total Fees                   10733 non-null  float64\n",
      " 13  Mapped Location              10733 non-null  object \n",
      "dtypes: bool(1), float64(1), int64(2), object(10)\n",
      "memory usage: 1.1+ MB\n"
     ]
    }
   ],
   "source": [
    "data06 = pd.read_table(\"https://data.urbanaillinois.us/api/views/tsn9-95m3/rows.tsv?accessType=DOWNLOAD&bom=true\")\n",
    "data06.info()"
   ]
  },
  {
   "cell_type": "markdown",
   "id": "c9a85121",
   "metadata": {},
   "source": [
    "**#7** Import the members of the current US Congress Data using one programming language software and the data URL https://github-dev.cs.illinois.edu/stat440-fa21/stat440-fa21-course-content/raw/master/data/data-leg or Box data URL https://uofi.box.com/shared/static/boqk8yjf0uzno218fqenz6tnl4zmavzb. Now, print the structure of the data. **This structure should match the data description below. FYI, to import this dataset, you'll need a code chunk (RStudio) or code cell (Jupyter Lab).** \n",
    "\n",
    "  - The dataset (a file with no extension) contains the 538 members of the US Congress with 6 variables (\"columns\") per person which includes details about the legislators' first and last names, middle name, nickname, and suffixes. According to the GovTrack, \"the United States Congress has two chambers, one called the Senate and the other called the House of Representatives (or \"House\" for short) which share the responsibilities of the legislative process to create federal statutory law.\" The original source is GovTrack."
   ]
  },
  {
   "cell_type": "code",
   "execution_count": 3,
   "id": "c9778c74",
   "metadata": {},
   "outputs": [
    {
     "name": "stdout",
     "output_type": "stream",
     "text": [
      "<class 'pandas.core.frame.DataFrame'>\n",
      "RangeIndex: 538 entries, 0 to 537\n",
      "Data columns (total 6 columns):\n",
      " #   Column         Non-Null Count  Dtype \n",
      "---  ------         --------------  ----- \n",
      " 0   first          538 non-null    object\n",
      " 1   last           538 non-null    object\n",
      " 2   official_full  537 non-null    object\n",
      " 3   middle         247 non-null    object\n",
      " 4   nickname       42 non-null     object\n",
      " 5   suffix         18 non-null     object\n",
      "dtypes: object(6)\n",
      "memory usage: 25.3+ KB\n"
     ]
    }
   ],
   "source": [
    "import urllib.request, json \n",
    "with urllib.request.urlopen(\"https://uofi.box.com/shared/static/boqk8yjf0uzno218fqenz6tnl4zmavzb\") as url:\n",
    "    dataJSON = json.loads(url.read().decode())\n",
    "dataJSON2 = pd.DataFrame(dataJSON)\n",
    "dataJSON2.info()"
   ]
  }
 ],
 "metadata": {
  "kernelspec": {
   "display_name": "Python 3 (ipykernel)",
   "language": "python",
   "name": "python3"
  },
  "language_info": {
   "codemirror_mode": {
    "name": "ipython",
    "version": 3
   },
   "file_extension": ".py",
   "mimetype": "text/x-python",
   "name": "python",
   "nbconvert_exporter": "python",
   "pygments_lexer": "ipython3",
   "version": "3.8.11"
  }
 },
 "nbformat": 4,
 "nbformat_minor": 5
}
