{
 "cells": [
  {
   "cell_type": "markdown",
   "metadata": {},
   "source": [
    "# STAT 440 Statistical Data Management - Fall 2021\n",
    "## Week02 Practice Lab00\n",
    "### Only the driver should submit this assignment into their individual student repo. Save the filename as lab00-week02-fri-netID.Rmd. Then render this file to .html when completed.\n",
    "\n",
    "**#1** Using Markdown syntax, make a numbered list with the first and last names of everyone at your station. Your name should appear in bold text.\n",
    "\n",
    "Answers will vary, but must be a proper list with Driver's name in bold text.\n",
    "\n",
    "**#2** Describe a git **commit** in your own words?\n",
    "\n",
    "A git commit is a snapshot of your repo upon making a change. This commit is a way to create and save a new version of your file(s).\n",
    "\n",
    "**#3** Based on the following question in bold **Homework is due tomorrow, but my git is giving me many errors like fatal error: authentication failed. What should I do?**, which Issues board label for the stat440-fa21-course-content repo is the most appropriate?\n",
    "\n",
    "Since this post includes a technical issue and the fact that the deadline is tomorrow, the help - urgent label is most appropriate.\n",
    "\n",
    "**#4** Consider the information in the image below and the image itself as a data set. Make one Markdown list: one list contains 3 questions about the data set (i.e. things you want to know about the data). \n",
    "\n",
    "![pic01](https://uofi.box.com/shared/static/wevi36kop9kdnsg688swpgchysi7nhyf.jpg)\n",
    "\n",
    "1. What do the colors represent?  \n",
    "2. Are these dots including Champaign?  \n",
    "3. Are there duplicates in the data?  \n",
    "\n",
    "**#5** Import the Nuisance Complaints Data using one programming language and the data URL https://data.urbanaillinois.us/api/views/tsn9-95m3/rows.csv?accessType=DOWNLOAD&bom=true.\n",
    "\n",
    "  - The dataset (a .csv file) contains 10619 rows and 14 columns in which each complaint is recorded. The columns include details about the complaint and location of the nuisance. The original source is the City of Urbana."
   ]
  },
  {
   "cell_type": "code",
   "execution_count": 1,
   "metadata": {},
   "outputs": [],
   "source": [
    "import pandas as pd\n",
    "data05 = pd.read_csv(\"https://data.urbanaillinois.us/api/views/tsn9-95m3/rows.csv?accessType=DOWNLOAD&bom=true\")"
   ]
  },
  {
   "cell_type": "code",
   "execution_count": 2,
   "metadata": {},
   "outputs": [
    {
     "data": {
      "text/plain": [
       "<bound method DataFrame.info of       File Number Date Reported  Year Reported  Month Reported Housing Block  \\\n",
       "0          308006    08/05/2003           2003               8    1500 BLOCK   \n",
       "1          407014    07/08/2004           2004               7    1700 BLOCK   \n",
       "2          407032    07/14/2004           2004               7    1100 BLOCK   \n",
       "3          607033    07/24/2006           2006               7    2000 BLOCK   \n",
       "4          304031    04/28/2003           2003               4    1300 BLOCK   \n",
       "...           ...           ...            ...             ...           ...   \n",
       "10728     1606041    06/09/2016           2016               6    1300 BLOCK   \n",
       "10729   21-001852    08/15/2021           2021               8     100 Block   \n",
       "10730   19-001846    08/28/2019           2019               8     800 Block   \n",
       "10731      506087    06/28/2005           2005               6     500 BLOCK   \n",
       "10732      501003    01/03/2005           2005               1    1200 BLOCK   \n",
       "\n",
       "               Street Name Date Notice Mailed or Given Type of Complaint  \\\n",
       "0                 N Carver                         NaN       Weeds/Grass   \n",
       "1               S Philo Rd                         NaN       Weeds/Grass   \n",
       "2            W Fairview Dr                         NaN       Weeds/Grass   \n",
       "3               S Philo Rd                         NaN   Municipal Waste   \n",
       "4               W Ellis Av                         NaN       Weeds/Grass   \n",
       "...                    ...                         ...               ...   \n",
       "10728          E Silver St                  06/09/2016   Municipal Waste   \n",
       "10729  North Poplar Street                         NaN               NaN   \n",
       "10730   West Oregon Street                  08/28/2019   Municipal Waste   \n",
       "10731         S Lincoln Av                         NaN       Weeds/Grass   \n",
       "10732          N Busey Ave                         NaN       Weeds/Grass   \n",
       "\n",
       "                Disposition File Close Date Method Submitted  \\\n",
       "0              Owner Abated             NaN    Not Available   \n",
       "1              Owner Abated             NaN    Not Available   \n",
       "2                   Invalid             NaN    Not Available   \n",
       "3               City Abated             NaN    Not Available   \n",
       "4              Owner Abated             NaN    Not Available   \n",
       "...                     ...             ...              ...   \n",
       "10728          Owner Abated      06/17/2016    Not Available   \n",
       "10729           City Abated      08/16/2021         Internet   \n",
       "10730  Voluntarily Complied      09/10/2019            Phone   \n",
       "10731          Owner Abated             NaN    Not Available   \n",
       "10732          Owner Abated             NaN    Not Available   \n",
       "\n",
       "       Submitted Online?  Total Fees  \\\n",
       "0                  False         0.0   \n",
       "1                  False         0.0   \n",
       "2                  False         0.0   \n",
       "3                  False         0.0   \n",
       "4                  False         0.0   \n",
       "...                  ...         ...   \n",
       "10728              False         0.0   \n",
       "10729               True         0.0   \n",
       "10730              False         0.0   \n",
       "10731              False         0.0   \n",
       "10732              False         0.0   \n",
       "\n",
       "                                         Mapped Location  \n",
       "0                              1500 N Carver\\nUrbana, IL  \n",
       "1                            1700 S Philo Rd\\nUrbana, IL  \n",
       "2                         1100 W Fairview Dr\\nUrbana, IL  \n",
       "3                            2000 S Philo Rd\\nUrbana, IL  \n",
       "4                            1300 W Ellis Av\\nUrbana, IL  \n",
       "...                                                  ...  \n",
       "10728  1300 E Silver St\\nUrbana, IL\\n(40.091481, -88....  \n",
       "10729  100 North Poplar Street\\nUrbana, IL\\n(40.11313...  \n",
       "10730  800 West Oregon Street\\nUrbana, IL\\n(40.107453...  \n",
       "10731  500 S Lincoln Av\\nUrbana, IL\\n(40.108829, -88....  \n",
       "10732  1200 N Busey Ave\\nUrbana, IL\\n(40.122819, -88....  \n",
       "\n",
       "[10733 rows x 14 columns]>"
      ]
     },
     "execution_count": 2,
     "metadata": {},
     "output_type": "execute_result"
    }
   ],
   "source": [
    "data05.info"
   ]
  },
  {
   "cell_type": "markdown",
   "metadata": {},
   "source": [
    "**#6** Import the Urbana Market at the Square Vendor Products Data using one programming language software and the data URL https://data.urbanaillinois.us/api/views/6gtk-bwms/rows.tsv?accessType=DOWNLOAD&bom=true. Now, print the structure of the data. **This structure should match the data description below. FYI, to import this dataset, you'll need a code chunk (RStudio) or code cell (Jupyter Lab).**\n",
    "\n",
    "  - The dataset (a .tsv file) contains 1185 rows and 15 columns in which each product being sold at the Market at the Square event is included along with the vendor, varieties of the product, and which months the product was available. The Market at the Square is a seasonal farmer's market that includes crafts as well as food products. This data was last updated in 2018."
   ]
  },
  {
   "cell_type": "code",
   "execution_count": 2,
   "metadata": {},
   "outputs": [
    {
     "name": "stdout",
     "output_type": "stream",
     "text": [
      "<class 'pandas.core.frame.DataFrame'>\n",
      "RangeIndex: 1185 entries, 0 to 1184\n",
      "Data columns (total 15 columns):\n",
      " #   Column     Non-Null Count  Dtype \n",
      "---  ------     --------------  ----- \n",
      " 0   Product    1185 non-null   object\n",
      " 1   Company    1185 non-null   object\n",
      " 2   Varieties  1185 non-null   int64 \n",
      " 3   January    1185 non-null   object\n",
      " 4   February   1185 non-null   object\n",
      " 5   March      1185 non-null   object\n",
      " 6   April      1185 non-null   object\n",
      " 7   May        1185 non-null   object\n",
      " 8   June       1185 non-null   object\n",
      " 9   July       1185 non-null   object\n",
      " 10  August     1185 non-null   object\n",
      " 11  September  1185 non-null   object\n",
      " 12  October    1185 non-null   object\n",
      " 13  November   1185 non-null   object\n",
      " 14  December   1185 non-null   object\n",
      "dtypes: int64(1), object(14)\n",
      "memory usage: 139.0+ KB\n"
     ]
    }
   ],
   "source": [
    "data06 = pd.read_table(\"https://data.urbanaillinois.us/api/views/6gtk-bwms/rows.tsv?accessType=DOWNLOAD&bom=true\")\n",
    "data06.info()"
   ]
  },
  {
   "cell_type": "markdown",
   "metadata": {},
   "source": [
    "**#7** Import the members of the current US Congress Data using one programming language software and the data URL https://theunitedstates.io/congress-legislators/legislators-current.json. Now, print the structure of the data. **This structure should match the data description below. FYI, to import this dataset, you'll need a code chunk (RStudio) or code cell (Jupyter Lab).** For Python users, use the Box data URL https://uofi.box.com/shared/static/jr79doirqzea8nxoyq175unpoifwem1f.json.\n",
    "\n",
    "The dataset (a .json file) contains the 538 members of the US Congress with 6 variables (\"columns\") per person which includes details about the legislators' first and last names, middle name, nickname, and suffixes. According to the GovTrack, \"the United States Congress has two chambers, one called the Senate and the other called the House of Representatives (or \"House\" for short) which share the responsibilities of the legislative process to create federal statutory law.\" The original source is GovTrack."
   ]
  },
  {
   "cell_type": "code",
   "execution_count": 4,
   "metadata": {},
   "outputs": [
    {
     "name": "stdout",
     "output_type": "stream",
     "text": [
      "<class 'pandas.core.frame.DataFrame'>\n",
      "RangeIndex: 538 entries, 0 to 537\n",
      "Data columns (total 6 columns):\n",
      " #   Column         Non-Null Count  Dtype \n",
      "---  ------         --------------  ----- \n",
      " 0   first          538 non-null    object\n",
      " 1   last           538 non-null    object\n",
      " 2   official_full  537 non-null    object\n",
      " 3   middle         247 non-null    object\n",
      " 4   nickname       42 non-null     object\n",
      " 5   suffix         18 non-null     object\n",
      "dtypes: object(6)\n",
      "memory usage: 25.3+ KB\n"
     ]
    }
   ],
   "source": [
    "import urllib.request, json \n",
    "with urllib.request.urlopen(\"https://uofi.box.com/shared/static/jr79doirqzea8nxoyq175unpoifwem1f.json\") as url:\n",
    "    dataJSON = json.loads(url.read().decode())\n",
    "dataJSON2 = pd.DataFrame(dataJSON)\n",
    "dataJSON2.info()"
   ]
  }
 ],
 "metadata": {
  "kernelspec": {
   "display_name": "Python 3 (ipykernel)",
   "language": "python",
   "name": "python3"
  },
  "language_info": {
   "codemirror_mode": {
    "name": "ipython",
    "version": 3
   },
   "file_extension": ".py",
   "mimetype": "text/x-python",
   "name": "python",
   "nbconvert_exporter": "python",
   "pygments_lexer": "ipython3",
   "version": "3.8.11"
  }
 },
 "nbformat": 4,
 "nbformat_minor": 4
}
