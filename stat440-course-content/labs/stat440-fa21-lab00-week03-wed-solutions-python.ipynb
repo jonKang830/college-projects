{
 "cells": [
  {
   "cell_type": "markdown",
   "id": "a5fbd220-fb48-4c97-815c-8e2ec1301d63",
   "metadata": {},
   "source": [
    "# STAT 440 Statistical Data Management - Fall 2021\n",
    "## Week03 Lab01\n",
    "### Only the driver should submit this assignment into their individual student repo. Save the filename as lab01-week03-wed-netID.Rmd. Then render this file to .html when completed.\n",
    "\n",
    "**#1** Using Markdown syntax, make a numbered list with the first and last names of everyone at your station. Your name should appear in bold text.\n",
    "\n",
    "Answers will vary, but must be a proper list with Driver's name in bold text.\n",
    "\n",
    "**#2** How many lifelines are now given during the lab days?\n",
    "\n",
    "Originally 2 lifelines. Now, only one lifeline is given.\n",
    "\n",
    "**#3** Which of the following cases is the file name in bold **Homework01Kinson2**? \n",
    "\n",
    "a. pascal case\n",
    "\n",
    "b. snake case\n",
    "\n",
    "c. camel case\n",
    "\n",
    "d. kebab case\n",
    "\n",
    "The case is a. pascal case.\n",
    "\n",
    "**#4** Import the Rental Inspection Grades Listing Data using one programming language software and the data URL https://github-dev.cs.illinois.edu/stat440-fa21/stat440-fa21-course-content/raw/master/data/rental-inspections-grades-data01.csv or Box data URL https://uofi.box.com/shared/static/l9o50efbnemdnaxury4hg45cj8b2truu.csv. Now, print the structure of the data. **This structure should match the data description below.** \n",
    "\n",
    "  - The dataset (a .csv file) contains the 1730 rental properties in Urbana with 7 variables (\"columns\") per property which includes details about the parcel number, address, grade, inspection date, and more. The rental properties are inspected on a rotating basis and can receive a letter grade of A, B, C, D, F, and N. The best grade is A. The original source is the City of Urbana."
   ]
  },
  {
   "cell_type": "code",
   "execution_count": 2,
   "id": "2e97dfa7-545f-4eff-ba40-b40978698274",
   "metadata": {},
   "outputs": [
    {
     "name": "stdout",
     "output_type": "stream",
     "text": [
      "<class 'pandas.core.frame.DataFrame'>\n",
      "RangeIndex: 1730 entries, 0 to 1729\n",
      "Data columns (total 7 columns):\n",
      " #   Column            Non-Null Count  Dtype \n",
      "---  ------            --------------  ----- \n",
      " 0   Property Address  1730 non-null   object\n",
      " 1   Parcel Number     1730 non-null   int64 \n",
      " 2   Inspection Date   1730 non-null   object\n",
      " 3   Grade             1730 non-null   object\n",
      " 4   License Status    1730 non-null   object\n",
      " 5   Expiration Date   1456 non-null   object\n",
      " 6   Mappable Address  1730 non-null   object\n",
      "dtypes: int64(1), object(6)\n",
      "memory usage: 94.7+ KB\n"
     ]
    }
   ],
   "source": [
    "import pandas as pd\n",
    "rentals = pd.read_csv(\"https://uofi.box.com/shared/static/l9o50efbnemdnaxury4hg45cj8b2truu.csv\")\n",
    "rentals.info()"
   ]
  },
  {
   "cell_type": "markdown",
   "id": "79c2ceec-b039-48eb-84af-65827f3627c9",
   "metadata": {},
   "source": [
    "**#5** (Handling dates and times, Arranging data) Using the Rental Inspection Grades Listings Data imported in Problem **#4**, ensure that the Inspection Date and Expiration Date columns are formatted as dates or datetimes; not character format."
   ]
  },
  {
   "cell_type": "code",
   "execution_count": 11,
   "id": "48e96886-d9df-403c-8024-da0bbadf6538",
   "metadata": {},
   "outputs": [
    {
     "name": "stdout",
     "output_type": "stream",
     "text": [
      "<class 'pandas.core.frame.DataFrame'>\n",
      "RangeIndex: 1730 entries, 0 to 1729\n",
      "Data columns (total 7 columns):\n",
      " #   Column            Non-Null Count  Dtype         \n",
      "---  ------            --------------  -----         \n",
      " 0   Property Address  1730 non-null   object        \n",
      " 1   Parcel Number     1730 non-null   int64         \n",
      " 2   Inspection Date   1730 non-null   datetime64[ns]\n",
      " 3   Grade             1730 non-null   object        \n",
      " 4   License Status    1730 non-null   object        \n",
      " 5   Expiration Date   1456 non-null   datetime64[ns]\n",
      " 6   Mappable Address  1730 non-null   object        \n",
      "dtypes: datetime64[ns](2), int64(1), object(4)\n",
      "memory usage: 94.7+ KB\n"
     ]
    }
   ],
   "source": [
    "rentals['Expiration Date'] = pd.to_datetime(rentals['Expiration Date'])\n",
    "rentals['Inspection Date'] = pd.to_datetime(rentals['Inspection Date'])\n",
    "rentals.info()"
   ]
  },
  {
   "cell_type": "markdown",
   "id": "099e9992-456d-4936-b00c-93202ed0d843",
   "metadata": {},
   "source": [
    "**#6** Web scrape the Champaign County Assessor's [website](https://champaignil.devnetwedge.com/) to extract a property's Net Taxable Value in US Dollars. Do this for the last 10 properties in the dataset from Problem **#5** and print the resulting 10 rows.\n"
   ]
  },
  {
   "cell_type": "code",
   "execution_count": 10,
   "id": "f1491941",
   "metadata": {},
   "outputs": [
    {
     "name": "stdout",
     "output_type": "stream",
     "text": [
      "['25,720', '210,940', '150,250', '7,170', '32,770', '29,080', '79,600', '12,160', '12,040', '25,610']\n"
     ]
    }
   ],
   "source": [
    "import requests\n",
    "import urllib.request\n",
    "from bs4 import BeautifulSoup\n",
    "import numpy as np\n",
    "root_url = 'https://champaignil.devnetwedge.com/parcel/view/'\n",
    "net_tax02 = ['']*len(rentals)\n",
    "for i in range(1720,1730):\n",
    "    url = root_url + str(rentals['Parcel Number'].iloc[i]) + '/2020'\n",
    "    response = requests.get(url)\n",
    "    soup = BeautifulSoup(response.text)\n",
    "    net_tax01 = soup.select('tr:nth-child(5) td:nth-child(1) .inner-value')\n",
    "    for oN in net_tax01:\n",
    "        net_tax02[i] = [taxes01.text for taxes01 in net_tax01]\n",
    "net_tax03 = []\n",
    "for item in net_tax02:\n",
    "    net_tax03 += item\n",
    "print(net_tax03)"
   ]
  }
 ],
 "metadata": {
  "kernelspec": {
   "display_name": "Python 3 (ipykernel)",
   "language": "python",
   "name": "python3"
  },
  "language_info": {
   "codemirror_mode": {
    "name": "ipython",
    "version": 3
   },
   "file_extension": ".py",
   "mimetype": "text/x-python",
   "name": "python",
   "nbconvert_exporter": "python",
   "pygments_lexer": "ipython3",
   "version": "3.8.11"
  }
 },
 "nbformat": 4,
 "nbformat_minor": 5
}
