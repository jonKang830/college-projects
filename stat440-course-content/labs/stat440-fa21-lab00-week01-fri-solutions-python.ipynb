{
 "cells": [
  {
   "cell_type": "markdown",
   "metadata": {},
   "source": [
    "# STAT 440 Statistical Data Management - Fall 2021\n",
    "## Week01 Practice Lab00\n",
    "\n",
    "***Only the driver should submit this problem into their individual student repo. Save the filename as lab00-week01-fri-netID.Rmd.***\n",
    "\n",
    "**#1** Using Markdown syntax, make a numbered list with the first and last names of everyone at your station. Your name should appear in bold text.\n",
    "\n",
    "Answers will vary, but driver's name must be in bold text.\n",
    "\n",
    "1. **Chris Kinson**\n",
    "\n",
    "2. Other Teammate\n",
    "\n",
    "\n",
    "**#2** Who are the TAs? Write the names of the TAs as an unordered list.\n",
    "\n",
    "- Jaideep Mahajan\n",
    "\n",
    "- Jim (or Yici) Yan\n",
    "\n",
    "**#3** On Monday, the Instructor mentioned two things about himself besides his name. What are those two things?\n",
    "\n",
    "Prof. Kinson deejays and plays instruments including the trumpet.\n",
    "\n",
    "**#4** Consider the information in the image below and the image itself as a data set. Make 2 Markdown lists: one list contains 3 things you observe about the data set, and the other list contains 3 questions about the data set (i.e. things you want to know about the data). \n",
    "\n",
    "![pic01](https://uofi.box.com/shared/static/sr0okcjrb7uw9lintsaxocrkpvy7ko8t.jpg)\n",
    "\n",
    "Answers will vary, but must be two lists (ordered or unordered). For example:\n",
    "\n",
    "List1\n",
    "- Data appears to be a word find puzzle.  \n",
    "- All words appear to be found.  \n",
    "- The puzzle is on page 59.  \n",
    "\n",
    "List2\n",
    "- Why are there arrows or rays adjacent to the words?  \n",
    "- Why are the words that are in the puzzle not completely circled?  \n",
    "- Are there more words within the puzzle beyond the words that are supposed to be found?  \n",
    "\n",
    "**#5** At your station, there is a puzzle. Solve and complete the puzzle and take a picture of the finished puzzle. Using Markdown syntax, include the picture (using a hyperlink) as the solution to this problem.\n",
    "\n",
    "Pictures will vary but must be linked using Markdown syntax such as \n",
    "\n",
    "![](https://raw.github-dev.cs.illinois.edu/stat440-fa21/kinson2/master/outdoors-img.jpg?token=AAABJG6Y2IN4B6KSR7E67IDBMWSXG)\n",
    "\n",
    "***Only the driver should submit this problem into their individual student repo. Save the filename as lab00-week01-fri-netID.Rmd.***\n"
   ]
  }
 ],
 "metadata": {
  "kernelspec": {
   "display_name": "Python 3 (ipykernel)",
   "language": "python",
   "name": "python3"
  },
  "language_info": {
   "codemirror_mode": {
    "name": "ipython",
    "version": 3
   },
   "file_extension": ".py",
   "mimetype": "text/x-python",
   "name": "python",
   "nbconvert_exporter": "python",
   "pygments_lexer": "ipython3",
   "version": "3.8.11"
  }
 },
 "nbformat": 4,
 "nbformat_minor": 4
}
