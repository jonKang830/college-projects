{
 "cells": [
  {
   "cell_type": "markdown",
   "id": "3e759b32-e98d-43d5-9f81-be55ab5e9eb4",
   "metadata": {
    "tags": []
   },
   "source": [
    "# STAT 440 Statistical Data Management - Fall 2021\n",
    "## Week04 Lab01 Mon\n",
    "### Only the driver should submit this assignment into their individual student repo. Save the filename as lab01-week04-mon-netID.Rmd. Then render this file to .html when completed. \n",
    "#### This lab must be submitted within 10 minutes of the end of class time. Any lab submitted after 11:00 am will be deducted 1 point for being late.\n",
    "\n",
    "**#1** Using Markdown syntax, make a numbered list with the first and last names of everyone at your station followed by a dash then the laptop group the everyone belongs; for example, Chris Kinson - D. Your name should appear in bold text. The possible laptop groups are: \n",
    "\n",
    "A. MacBook with a Mini Display Port but not USB-C  \n",
    "B. MacBook with a USB-C  \n",
    "C. Windows laptop without an HDMI port  \n",
    "D. Laptop does not fit into A, B, or C.  \n",
    "\n",
    "Answers will vary, but must be a proper list with names and letters. Driver's name must be bold text.\n",
    "\n",
    "**#2** Import the Rental Inspection Grades Listing Data using one programming language software and the data URL https://github-dev.cs.illinois.edu/stat440-fa21/stat440-fa21-course-content/raw/master/data/rental-inspections-grades-data05.json or Box data URL https://uofi.box.com/shared/static/at5sydtqaals7opqlq35p59xu0f9lsyx.json. Make sure that the Inspection Date and Expiration Date columns are formatted as dates or datetimes; not character format. Now, print the structure of the data. **This structure should match the data description below.** \n",
    "\n",
    "  - The dataset (a .json file) contains the 1730 rental properties in Urbana with 7 variables (\"columns\") per property which includes details about the parcel number, address, grade, inspection date, and more. The rental properties are inspected on a rotating basis and can receive a letter grade of A, B, C, D, F, and N. The best grade is A. The original source is the City of Urbana.\n"
   ]
  },
  {
   "cell_type": "code",
   "execution_count": 5,
   "id": "02379d91-27c1-4986-99e6-93feccfa3844",
   "metadata": {},
   "outputs": [
    {
     "name": "stdout",
     "output_type": "stream",
     "text": [
      "<class 'pandas.core.frame.DataFrame'>\n",
      "RangeIndex: 1730 entries, 0 to 1729\n",
      "Data columns (total 7 columns):\n",
      " #   Column            Non-Null Count  Dtype         \n",
      "---  ------            --------------  -----         \n",
      " 0   Property Address  1730 non-null   object        \n",
      " 1   Parcel Number     1730 non-null   int64         \n",
      " 2   Inspection Date   1730 non-null   datetime64[ns]\n",
      " 3   Grade             1730 non-null   object        \n",
      " 4   License Status    1730 non-null   object        \n",
      " 5   Expiration Date   1456 non-null   datetime64[ns]\n",
      " 6   Mappable Address  1730 non-null   object        \n",
      "dtypes: datetime64[ns](2), int64(1), object(4)\n",
      "memory usage: 94.7+ KB\n"
     ]
    }
   ],
   "source": [
    "import pandas as pd\n",
    "import urllib.request, json \n",
    "with urllib.request.urlopen(\"https://uofi.box.com/shared/static/at5sydtqaals7opqlq35p59xu0f9lsyx.json\") as url0:\n",
    "    rentals = pd.DataFrame(json.loads(url0.read().decode()))\n",
    "\n",
    "rentals['Expiration Date'] = pd.to_datetime(rentals['Expiration Date'])\n",
    "rentals['Inspection Date'] = pd.to_datetime(rentals['Inspection Date'])\n",
    "rentals.info()"
   ]
  },
  {
   "cell_type": "markdown",
   "id": "a51fa29d-a960-4815-b789-4b732cbbbc3d",
   "metadata": {},
   "source": [
    "**#3** Web scrape the Champaign County Assessor's [website](https://champaignil.devnetwedge.com/) to extract a property's Net Taxable Value in US Dollars. Do this for the 10th, 20th, 30th, 40th, and 50th properties in the dataset from Problem **#2** and print these 5 values.\n"
   ]
  },
  {
   "cell_type": "code",
   "execution_count": 6,
   "id": "b69cf043-f1d4-404a-926e-af6a4b94af68",
   "metadata": {},
   "outputs": [
    {
     "name": "stdout",
     "output_type": "stream",
     "text": [
      "['81,950', '214,920', '80,980', '23,540', '46,230']\n"
     ]
    }
   ],
   "source": [
    "import requests\n",
    "import urllib.request\n",
    "from bs4 import BeautifulSoup\n",
    "import numpy as np\n",
    "root_url = 'https://champaignil.devnetwedge.com/parcel/view/'\n",
    "net_tax02 = ['']*len(rentals)\n",
    "for i in range(9,59,10):\n",
    "    url = root_url + str(rentals['Parcel Number'].iloc[i]) + '/2020'\n",
    "    response = requests.get(url)\n",
    "    soup = BeautifulSoup(response.text)\n",
    "    net_tax01 = soup.select('tr:nth-child(5) td:nth-child(1) .inner-value')\n",
    "    for oN in net_tax01:\n",
    "        net_tax02[i] = [taxes01.text for taxes01 in net_tax01]\n",
    "net_tax03 = []\n",
    "for item in net_tax02:\n",
    "    net_tax03 += item\n",
    "print(net_tax03)"
   ]
  },
  {
   "cell_type": "markdown",
   "id": "ed15f673-988f-45c7-b200-2aae54956bc3",
   "metadata": {},
   "source": [
    "**#4** Import Market at the Square Vendor Products Data using one programming language software and the data URL https://data.urbanaillinois.us/api/views/6gtk-bwms/rows.csv?accessType=DOWNLOAD. No need to consider tokenized URLs. Now, print the structure of the data. **This structure should match the data description below.** \n",
    "\n",
    "  - The dataset (a .csv file) contains 1185 rows and 15 columns. The Market at the Square is a seasonal farmer's market where vendors sell vegetables, fruits, meat, and other products. Some vendors may sell non-food items such as arts and crafts. Other vendors are there to promote their organization such as political orgs, candidates, and religious groups. The data contains a listing of products sold by different vendors and with month-by-month details on which products are available, where the availability is Yes or No.\n"
   ]
  },
  {
   "cell_type": "code",
   "execution_count": 8,
   "id": "0d7ec755-a190-4429-aacd-97230b29229d",
   "metadata": {},
   "outputs": [
    {
     "data": {
      "text/plain": [
       "<bound method DataFrame.info of           Product                             Company  Varieties January  \\\n",
       "0     Accessories                    Andy's Creations         30      No   \n",
       "1     Accessories          Champaign County Democrats          1      No   \n",
       "2     Accessories  Champaign County Libertarian Party          1      No   \n",
       "3     Accessories                CU Immigration Forum          1      No   \n",
       "4     Accessories       Illinois Stewardship Alliance          1      No   \n",
       "...           ...                                 ...        ...     ...   \n",
       "1180     Zucchini                 Kleiss Produce Farm          1      No   \n",
       "1181     Zucchini                       Meyer Produce          2      No   \n",
       "1182     Zucchini                      Riverbend Farm          3      No   \n",
       "1183     Zucchini                    Sola Gratia Farm          2      No   \n",
       "1184     Zucchini                      Tomahnous Farm          2      No   \n",
       "\n",
       "     February March April May June July August September October November  \\\n",
       "0          No    No    No  No   No   No     No        No      No       No   \n",
       "1          No    No    No  No   No   No     No        No      No       No   \n",
       "2          No    No    No  No   No   No     No        No      No       No   \n",
       "3          No    No    No  No   No   No     No        No      No       No   \n",
       "4          No    No    No  No   No   No     No        No      No       No   \n",
       "...       ...   ...   ...  ..  ...  ...    ...       ...     ...      ...   \n",
       "1180       No    No    No  No   No   No     No        No      No       No   \n",
       "1181       No    No    No  No   No   No     No        No      No       No   \n",
       "1182       No    No    No  No   No   No     No        No      No       No   \n",
       "1183       No    No    No  No   No   No     No        No      No       No   \n",
       "1184       No    No    No  No   No   No     No        No      No       No   \n",
       "\n",
       "     December  \n",
       "0          No  \n",
       "1          No  \n",
       "2          No  \n",
       "3          No  \n",
       "4          No  \n",
       "...       ...  \n",
       "1180       No  \n",
       "1181       No  \n",
       "1182       No  \n",
       "1183       No  \n",
       "1184       No  \n",
       "\n",
       "[1185 rows x 15 columns]>"
      ]
     },
     "execution_count": 8,
     "metadata": {},
     "output_type": "execute_result"
    }
   ],
   "source": [
    "market = pd.read_csv('https://data.urbanaillinois.us/api/views/6gtk-bwms/rows.csv?accessType=DOWNLOAD')\n",
    "market.info"
   ]
  },
  {
   "cell_type": "markdown",
   "id": "3da75985-d3fa-45c0-9132-d9baa1e1de2d",
   "metadata": {},
   "source": [
    "**#5** Reshape the imported data in Problem **4** such that the columns named as the 12 months of the year become one single column named \"Months\" with their corresponding Yes or No values named as \"Availability\". Print the first 10 rows of the reshaped data.\n"
   ]
  },
  {
   "cell_type": "code",
   "execution_count": 11,
   "id": "b69ce35a-e71e-4296-bc90-c6ef26339ed6",
   "metadata": {},
   "outputs": [
    {
     "data": {
      "text/html": [
       "<div>\n",
       "<style scoped>\n",
       "    .dataframe tbody tr th:only-of-type {\n",
       "        vertical-align: middle;\n",
       "    }\n",
       "\n",
       "    .dataframe tbody tr th {\n",
       "        vertical-align: top;\n",
       "    }\n",
       "\n",
       "    .dataframe thead th {\n",
       "        text-align: right;\n",
       "    }\n",
       "</style>\n",
       "<table border=\"1\" class=\"dataframe\">\n",
       "  <thead>\n",
       "    <tr style=\"text-align: right;\">\n",
       "      <th></th>\n",
       "      <th>Product</th>\n",
       "      <th>Company</th>\n",
       "      <th>Varieties</th>\n",
       "      <th>Months</th>\n",
       "      <th>Availability</th>\n",
       "    </tr>\n",
       "  </thead>\n",
       "  <tbody>\n",
       "    <tr>\n",
       "      <th>0</th>\n",
       "      <td>Accessories</td>\n",
       "      <td>Andy's Creations</td>\n",
       "      <td>30</td>\n",
       "      <td>January</td>\n",
       "      <td>No</td>\n",
       "    </tr>\n",
       "    <tr>\n",
       "      <th>1</th>\n",
       "      <td>Accessories</td>\n",
       "      <td>Andy's Creations</td>\n",
       "      <td>30</td>\n",
       "      <td>February</td>\n",
       "      <td>No</td>\n",
       "    </tr>\n",
       "    <tr>\n",
       "      <th>2</th>\n",
       "      <td>Accessories</td>\n",
       "      <td>Andy's Creations</td>\n",
       "      <td>30</td>\n",
       "      <td>March</td>\n",
       "      <td>No</td>\n",
       "    </tr>\n",
       "    <tr>\n",
       "      <th>3</th>\n",
       "      <td>Accessories</td>\n",
       "      <td>Andy's Creations</td>\n",
       "      <td>30</td>\n",
       "      <td>April</td>\n",
       "      <td>No</td>\n",
       "    </tr>\n",
       "    <tr>\n",
       "      <th>4</th>\n",
       "      <td>Accessories</td>\n",
       "      <td>Andy's Creations</td>\n",
       "      <td>30</td>\n",
       "      <td>May</td>\n",
       "      <td>No</td>\n",
       "    </tr>\n",
       "    <tr>\n",
       "      <th>5</th>\n",
       "      <td>Accessories</td>\n",
       "      <td>Andy's Creations</td>\n",
       "      <td>30</td>\n",
       "      <td>June</td>\n",
       "      <td>No</td>\n",
       "    </tr>\n",
       "    <tr>\n",
       "      <th>6</th>\n",
       "      <td>Accessories</td>\n",
       "      <td>Andy's Creations</td>\n",
       "      <td>30</td>\n",
       "      <td>July</td>\n",
       "      <td>No</td>\n",
       "    </tr>\n",
       "    <tr>\n",
       "      <th>7</th>\n",
       "      <td>Accessories</td>\n",
       "      <td>Andy's Creations</td>\n",
       "      <td>30</td>\n",
       "      <td>August</td>\n",
       "      <td>No</td>\n",
       "    </tr>\n",
       "    <tr>\n",
       "      <th>8</th>\n",
       "      <td>Accessories</td>\n",
       "      <td>Andy's Creations</td>\n",
       "      <td>30</td>\n",
       "      <td>September</td>\n",
       "      <td>No</td>\n",
       "    </tr>\n",
       "    <tr>\n",
       "      <th>9</th>\n",
       "      <td>Accessories</td>\n",
       "      <td>Andy's Creations</td>\n",
       "      <td>30</td>\n",
       "      <td>October</td>\n",
       "      <td>No</td>\n",
       "    </tr>\n",
       "  </tbody>\n",
       "</table>\n",
       "</div>"
      ],
      "text/plain": [
       "       Product           Company  Varieties     Months Availability\n",
       "0  Accessories  Andy's Creations         30    January           No\n",
       "1  Accessories  Andy's Creations         30   February           No\n",
       "2  Accessories  Andy's Creations         30      March           No\n",
       "3  Accessories  Andy's Creations         30      April           No\n",
       "4  Accessories  Andy's Creations         30        May           No\n",
       "5  Accessories  Andy's Creations         30       June           No\n",
       "6  Accessories  Andy's Creations         30       July           No\n",
       "7  Accessories  Andy's Creations         30     August           No\n",
       "8  Accessories  Andy's Creations         30  September           No\n",
       "9  Accessories  Andy's Creations         30    October           No"
      ]
     },
     "execution_count": 11,
     "metadata": {},
     "output_type": "execute_result"
    }
   ],
   "source": [
    "import numpy as np\n",
    "stack_cols = ['January','February','March','April','May','June','July','August','September','October','November','December']\n",
    "rem_cols = [x for x in market if x not in stack_cols]\n",
    "stack_df = market[stack_cols].stack(dropna=False).to_frame()\n",
    "stack_df = stack_df.reset_index()\n",
    "stack_df.columns = ['newid','Months','Availability']\n",
    "market02 = pd.merge(market[rem_cols],stack_df,left_on = market.index,right_on='newid',how='right')\n",
    "market03 = market02.drop(columns=['newid'])\n",
    "market03.head(10)"
   ]
  }
 ],
 "metadata": {
  "kernelspec": {
   "display_name": "Python 3 (ipykernel)",
   "language": "python",
   "name": "python3"
  },
  "language_info": {
   "codemirror_mode": {
    "name": "ipython",
    "version": 3
   },
   "file_extension": ".py",
   "mimetype": "text/x-python",
   "name": "python",
   "nbconvert_exporter": "python",
   "pygments_lexer": "ipython3",
   "version": "3.8.11"
  }
 },
 "nbformat": 4,
 "nbformat_minor": 5
}
