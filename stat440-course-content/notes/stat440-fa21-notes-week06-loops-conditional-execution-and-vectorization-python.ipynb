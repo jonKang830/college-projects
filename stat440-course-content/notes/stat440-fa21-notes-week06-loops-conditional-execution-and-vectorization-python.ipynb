{
 "cells": [
  {
   "cell_type": "markdown",
   "metadata": {},
   "source": [
    "# STAT 440 Statistical Data Management - Fall 2021\n",
    "## Week 06 Notes\n",
    "### Created by Christopher Kinson and Huiqin Xin\n",
    "\n",
    "***\n",
    "\n",
    "\n",
    "### Table of Contents\n",
    "\n",
    "- [Loops and conditional execution](#loops-and-conditional-execution)  \n",
    "  - [Conditional execution](#conditional-execution)  \n",
    "  - [Loops](#loops)  \n",
    "    - [Index-controlled loops: `for` loop](#index-controlled)\n",
    "    - [Condition-controlled loops: `while` loop](#condition-controlled-while)\n",
    "    - [Condition-controlled loops: `repeat` loop](#condition-controlled-repeat)\n",
    "- [map and apply](#map-apply)  \n",
    "  - [Why?](#why)  \n",
    "- [Vectorization](#vectorization)\n",
    "\n",
    "\n",
    "***\n",
    "\n",
    "\n"
   ]
  },
  {
   "cell_type": "markdown",
   "metadata": {},
   "source": [
    "## <a name=\"loops-and-conditional-execution\"></a>Loops and Conditional Execution\n",
    "\n",
    "### <a name=\"conditional-execution\"></a>Conditional Execution\n",
    "\n",
    "The `if` statement requires a TRUE logical condition (expression) in order for the expressions to run. Multiple expressions, i.e. grouped expressions can be used. Multiple conditions can be combined with logical operator `and` or `or`. The else is used if the user intends for an alternative set of expressions to be executed when the logical condition is FALSE.\n"
   ]
  },
  {
   "cell_type": "markdown",
   "metadata": {},
   "source": [
    "```\n",
    "if condition:\n",
    "    expressions\n",
    "else:\n",
    "    expressions\n",
    "\n",
    "if condition:\n",
    "    expressions\n",
    "elif condition:\n",
    "    expressions\n",
    "elif condition:\n",
    "    expressions\n",
    "else:\n",
    "    expressions\n",
    "\n",
    "if condition1 and condition2:\n",
    "    expressions\n",
    "else:\n",
    "    expressions\n",
    "```"
   ]
  },
  {
   "cell_type": "markdown",
   "metadata": {},
   "source": [
    "### <a name=\"loops\"></a>Loops\n",
    "\n",
    "![](https://media.giphy.com/media/zA9wlONvvIorC/giphy.gif)\n",
    "\n",
    "We use loops:  \n",
    "\n",
    "- when we want to do repetitive actions on observations\n",
    "\n",
    "    - the repetitive actions happen in the loop body  \n",
    "\n",
    "- to show how values change over iterations\n",
    "\n",
    "- because we want efficient coding  \n",
    "\n",
    "- within loops, called nested loops, for more complicated calculations\n",
    "\n",
    "There are 2 main type of loops:  \n",
    "\n",
    "- **index-controlled** loops  \n",
    "\n",
    "    - actions are repeated for a predetermined number of times using an index or counter  \n",
    "- **condition-controlled** loops  \n",
    "\n",
    "    - actions are repeated once a condition is satisfied  \n",
    "\n",
    "    - condition checked at the bottom or at top of the loop\n",
    "\n",
    "#### The for loop (index-controlled)\n",
    "\n",
    "![](https://uofi.box.com/shared/static/pu35sgyu0pqeesuuzrspij6famx4ba9e.png)\n",
    "\n",
    "The index is determined by the expression and changes each time the grouped expressions execute until the index reaches the maximum value of the expression. To stop the for loop, we must smartly utilize the dimension of the expression.\n",
    "\n"
   ]
  },
  {
   "cell_type": "markdown",
   "metadata": {},
   "source": [
    "```\n",
    "for index in expression:\n",
    "    expressions\n",
    "   ```"
   ]
  },
  {
   "cell_type": "code",
   "execution_count": 7,
   "metadata": {},
   "outputs": [],
   "source": [
    "import numpy as np\n",
    "import pandas as pd"
   ]
  },
  {
   "cell_type": "code",
   "execution_count": 8,
   "metadata": {},
   "outputs": [
    {
     "name": "stdout",
     "output_type": "stream",
     "text": [
      "[0]\n",
      "[0 1]\n",
      "[0 1 2]\n",
      "[0 1 2 3]\n",
      "[0 1 2 3 4]\n",
      "[0 1 2 3 4 5]\n"
     ]
    }
   ],
   "source": [
    "for i in range(6):\n",
    "    print(np.array(range(i+1)))"
   ]
  },
  {
   "cell_type": "code",
   "execution_count": 9,
   "metadata": {},
   "outputs": [
    {
     "data": {
      "text/plain": [
       "array([[-0.15752883, -0.91706809],\n",
       "       [-0.61456729, -0.84304565],\n",
       "       [-1.64523415, -1.98777515],\n",
       "       [ 0.62608074, -0.31556277],\n",
       "       [ 0.17771124, -0.29295936],\n",
       "       [-2.37435164,  0.79823961],\n",
       "       [ 0.36004517, -0.4654101 ],\n",
       "       [ 0.2154657 , -0.76446214],\n",
       "       [ 1.17058077, -0.80257374],\n",
       "       [-1.55383973,  0.32635703]])"
      ]
     },
     "execution_count": 9,
     "metadata": {},
     "output_type": "execute_result"
    }
   ],
   "source": [
    "ab = None\n",
    "matrix1 = np.random.normal(0,1,(100,2))\n",
    "# print(matrix1)\n",
    "for i in range(10):\n",
    "    if ab is not None: \n",
    "        ab=np.concatenate((ab, matrix1[(10*i):(10*(i+1))]),axis=0)\n",
    "    else:\n",
    "        ab= matrix1[(10*i):(10*(i+1))]\n",
    "ab[:10]"
   ]
  },
  {
   "cell_type": "code",
   "execution_count": 10,
   "metadata": {},
   "outputs": [
    {
     "data": {
      "text/plain": [
       "[0, 1, -2, 3, -4, 5, -6, 7, -8, 9, -10, 11, -12, 13, -14, 15, -16, 17, -18, 19]"
      ]
     },
     "execution_count": 10,
     "metadata": {},
     "output_type": "execute_result"
    }
   ],
   "source": [
    "x = [i for i in range(20)]\n",
    "for i in range(20):\n",
    "    if x[i] % 2==0:\n",
    "        x[i] = -x[i]\n",
    "x"
   ]
  },
  {
   "cell_type": "code",
   "execution_count": 11,
   "metadata": {
    "scrolled": true
   },
   "outputs": [
    {
     "data": {
      "text/plain": [
       "[[0, 0, 0, 0, 1.6888016667371213, -1.3300182128996376, 0, 0],\n",
       " [0, -1.0812114361039638, 0, 0, 0, 0, 0, 0],\n",
       " [1.5492405032113374,\n",
       "  0,\n",
       "  -1.1559227029022303,\n",
       "  2.010219629460384,\n",
       "  0,\n",
       "  1.0445333127286223,\n",
       "  1.1924203502826034,\n",
       "  0],\n",
       " [0, 1.4303588956392677, 0, 0, 0, 0, -1.0866046466811308, 0],\n",
       " [0, -1.3791531228023877, 0, 0, 1.2765126883182925, 0, 0, 0],\n",
       " [2.478162963183193,\n",
       "  0,\n",
       "  0,\n",
       "  -2.246094727876841,\n",
       "  0,\n",
       "  -1.2128762045587838,\n",
       "  0,\n",
       "  -1.9888081299366096],\n",
       " [0, 0, 0, 0, 0, 1.1343262863727452, 0, 0],\n",
       " [0,\n",
       "  0,\n",
       "  0,\n",
       "  1.7667354531709256,\n",
       "  1.684833119849793,\n",
       "  1.4233962513668892,\n",
       "  -1.4603770719603728,\n",
       "  -1.275121667948347]]"
      ]
     },
     "execution_count": 11,
     "metadata": {},
     "output_type": "execute_result"
    }
   ],
   "source": [
    "nc = 8 \n",
    "nr = 8\n",
    "mat = [[0 for j in range(nc)] for i in range(nr)]\n",
    "for i in range(nr):\n",
    "    for j in range(nc):\n",
    "        z = np.random.normal()\n",
    "        if abs(z)>1:\n",
    "            mat[i][j]=z\n",
    "mat"
   ]
  },
  {
   "cell_type": "markdown",
   "metadata": {},
   "source": [
    "#### <a name=\"condition-controlled-while\"></a> Condition-controlled Loops 1\n",
    "![](https://uofi.box.com/shared/static/gmrkhaq7rgyklw1tvqrepveo2rivj8cm.png)\n",
    "\n",
    "The logical condition should be TRUE at the very beginning before the grouped expressions can be repeated. Once the condition is FALSE, the loop stops.\n",
    "\n",
    "```\n",
    "while condition:\n",
    "    expressions\n",
    "    index += 1\n",
    "```\n",
    "\n",
    "Some examples of the while loop."
   ]
  },
  {
   "cell_type": "code",
   "execution_count": 12,
   "metadata": {},
   "outputs": [
    {
     "name": "stdout",
     "output_type": "stream",
     "text": [
      "Iteration: 1, unif: 0.777702 \n",
      "\n",
      "Iteration: 2, unif: 0.237541 \n",
      "\n",
      "Iteration: 3, unif: 0.824279 \n",
      "\n",
      "Iteration: 4, unif: 0.965749 \n",
      "\n",
      "Iteration: 5, unif: 0.972601 \n",
      "\n",
      "Iteration: 6, unif: 0.453449 \n",
      "\n",
      "Iteration: 7, unif: 0.609042 \n",
      "\n",
      "Iteration: 8, unif: 0.775527 \n",
      "\n",
      "Iteration: 9, unif: 0.641613 \n",
      "\n",
      "Iteration: 10, unif: 0.722018 \n",
      "\n",
      "Iteration: 11, unif: 0.035037 \n",
      "\n"
     ]
    }
   ],
   "source": [
    "cond = True\n",
    "i=1\n",
    "np.random.seed(13)\n",
    "while cond:\n",
    "    u = np.random.uniform(0,1,1)\n",
    "    if u<1/10:\n",
    "        cond =False\n",
    "    print('Iteration: %d, unif: %f \\n' % (i,u))\n",
    "    i+=1"
   ]
  },
  {
   "cell_type": "code",
   "execution_count": 13,
   "metadata": {},
   "outputs": [
    {
     "data": {
      "text/plain": [
       "0.003"
      ]
     },
     "execution_count": 13,
     "metadata": {},
     "output_type": "execute_result"
    }
   ],
   "source": [
    "x,precision = 0.001,0.001\n",
    "while np.random.gamma(1,1)<0.95:\n",
    "    x = x + precision\n",
    "x\n"
   ]
  },
  {
   "cell_type": "code",
   "execution_count": 14,
   "metadata": {},
   "outputs": [
    {
     "data": {
      "image/png": "[encoded data removed]",
      "text/plain": [
       "<Figure size 432x288 with 1 Axes>"
      ]
     },
     "metadata": {
      "needs_background": "light"
     },
     "output_type": "display_data"
    },
    {
     "data": {
      "image/png": "[encoded data removed]",
      "text/plain": [
       "<Figure size 432x288 with 1 Axes>"
      ]
     },
     "metadata": {
      "needs_background": "light"
     },
     "output_type": "display_data"
    },
    {
     "data": {
      "image/png": "[encoded data removed]",
      "text/plain": [
       "<Figure size 432x288 with 1 Axes>"
      ]
     },
     "metadata": {
      "needs_background": "light"
     },
     "output_type": "display_data"
    },
    {
     "data": {
      "image/png": "[encoded data removed]",
      "text/plain": [
       "<Figure size 432x288 with 1 Axes>"
      ]
     },
     "metadata": {
      "needs_background": "light"
     },
     "output_type": "display_data"
    },
    {
     "data": {
      "image/png": "[encoded data removed]",
      "text/plain": [
       "<Figure size 432x288 with 1 Axes>"
      ]
     },
     "metadata": {
      "needs_background": "light"
     },
     "output_type": "display_data"
    },
    {
     "data": {
      "image/png": "[encoded data removed]",
      "text/plain": [
       "<Figure size 432x288 with 1 Axes>"
      ]
     },
     "metadata": {
      "needs_background": "light"
     },
     "output_type": "display_data"
    },
    {
     "data": {
      "image/png": "[encoded data removed]",
      "text/plain": [
       "<Figure size 432x288 with 1 Axes>"
      ]
     },
     "metadata": {
      "needs_background": "light"
     },
     "output_type": "display_data"
    },
    {
     "data": {
      "image/png": "[encoded data removed]",
      "text/plain": [
       "<Figure size 432x288 with 1 Axes>"
      ]
     },
     "metadata": {
      "needs_background": "light"
     },
     "output_type": "display_data"
    }
   ],
   "source": [
    "import matplotlib.pyplot as plt\n",
    "y = [i for i in range(16)]\n",
    "i = 0\n",
    "while y[i]<8:\n",
    "    plt.plot(y[:(i+1)], list(map(lambda x: (x-4)**2,y[:(i+1)]) ))\n",
    "    plt.show()\n",
    "    i+=1\n"
   ]
  },
  {
   "cell_type": "markdown",
   "metadata": {},
   "source": [
    "#### <a name=\"condition-controlled-while2\"></a> Condition-controlled Loops 2\n",
    "\n",
    "<img src='https://uofi.box.com/shared/static/vqi9zzrj252sbma0d54x29pt0g6d9u28.png'>\n",
    "\n",
    "The grouped expressions execute until the condition is TRUE. When the condition is TRUE, the `break` statement provides the end and exit of the loop. Without the `break`, the loop never stops.\n",
    "```\n",
    "while True: \n",
    "    expressions\n",
    "    index += 1\n",
    "    if condition:\n",
    "        break\n",
    "```\n",
    "***"
   ]
  },
  {
   "cell_type": "markdown",
   "metadata": {},
   "source": [
    "Some examples of the repeat loop."
   ]
  },
  {
   "cell_type": "code",
   "execution_count": 15,
   "metadata": {},
   "outputs": [
    {
     "name": "stdout",
     "output_type": "stream",
     "text": [
      "0\n",
      "1\n",
      "2\n",
      "3\n",
      "4\n",
      "5\n",
      "6\n",
      "7\n",
      "8\n",
      "9\n",
      "10\n",
      "11\n",
      "12\n",
      "13\n",
      "14\n",
      "15\n",
      "16\n",
      "17\n",
      "18\n"
     ]
    }
   ],
   "source": [
    "np.random.seed(13)\n",
    "i = 0\n",
    "while True:\n",
    "    print(i)\n",
    "    i += 1\n",
    "    if np.random.uniform(0,1,1) < 1/100:\n",
    "        break"
   ]
  },
  {
   "cell_type": "code",
   "execution_count": 16,
   "metadata": {},
   "outputs": [
    {
     "data": {
      "text/plain": [
       "2.9958000000018976"
      ]
     },
     "execution_count": 16,
     "metadata": {},
     "output_type": "execute_result"
    }
   ],
   "source": [
    "from scipy.stats import gamma\n",
    "precision = 0.0001\n",
    "x = 0.001 \n",
    "while True:\n",
    "    x +=  precision\n",
    "    if gamma.cdf(x, 1) > 0.95:\n",
    "        break\n",
    "x"
   ]
  },
  {
   "cell_type": "markdown",
   "metadata": {},
   "source": [
    "## <a name=\"map-apply\"></a>map and apply\n",
    "\n",
    "In python, we use map (on iterable) and apply (on pandas.DataFrame) function to simplify complicated *for loop* coding.\n",
    "\n",
    "![](https://media1.tenor.com/images/f552638ff2e4099790a44c1ccf245301/tenor.gif?itemid=3965570)\n",
    "\n",
    "\n",
    "\n",
    "\n",
    "### <a name=\"why\"></a>Why?\n",
    "\n",
    "Similar to apply functions in R code, map and apply function has its priority comparing to *for loop*.\n",
    "\n",
    "- Allow one to write **literate** code. On the other hand, *for loops* are not very expressable, i.e. they take a lot of code to do what you want.\n",
    "- *for loops* permit you to write bad code.\n",
    "- variables created in the *for loop* are stored in the global environment, which is dangerous."
   ]
  },
  {
   "cell_type": "markdown",
   "metadata": {},
   "source": [
    "Here is an example to show the advantage of apply function on processing DataFrame."
   ]
  },
  {
   "cell_type": "code",
   "execution_count": 17,
   "metadata": {},
   "outputs": [
    {
     "name": "stdout",
     "output_type": "stream",
     "text": [
      "1.4620000000000002\n",
      "4.26\n",
      "5.5520000000000005\n"
     ]
    },
    {
     "data": {
      "text/html": [
       "<div>\n",
       "<style scoped>\n",
       "    .dataframe tbody tr th:only-of-type {\n",
       "        vertical-align: middle;\n",
       "    }\n",
       "\n",
       "    .dataframe tbody tr th {\n",
       "        vertical-align: top;\n",
       "    }\n",
       "\n",
       "    .dataframe thead th {\n",
       "        text-align: right;\n",
       "    }\n",
       "</style>\n",
       "<table border=\"1\" class=\"dataframe\">\n",
       "  <thead>\n",
       "    <tr style=\"text-align: right;\">\n",
       "      <th></th>\n",
       "      <th>sepal length (cm)</th>\n",
       "      <th>sepal width (cm)</th>\n",
       "      <th>petal length (cm)</th>\n",
       "      <th>petal width (cm)</th>\n",
       "      <th>target</th>\n",
       "    </tr>\n",
       "  </thead>\n",
       "  <tbody>\n",
       "    <tr>\n",
       "      <th>100</th>\n",
       "      <td>6.3</td>\n",
       "      <td>3.3</td>\n",
       "      <td>6.0</td>\n",
       "      <td>2.5</td>\n",
       "      <td>2.0</td>\n",
       "    </tr>\n",
       "    <tr>\n",
       "      <th>101</th>\n",
       "      <td>5.8</td>\n",
       "      <td>2.7</td>\n",
       "      <td>5.1</td>\n",
       "      <td>1.9</td>\n",
       "      <td>2.0</td>\n",
       "    </tr>\n",
       "    <tr>\n",
       "      <th>102</th>\n",
       "      <td>7.1</td>\n",
       "      <td>3.0</td>\n",
       "      <td>5.9</td>\n",
       "      <td>2.1</td>\n",
       "      <td>2.0</td>\n",
       "    </tr>\n",
       "    <tr>\n",
       "      <th>103</th>\n",
       "      <td>6.3</td>\n",
       "      <td>2.9</td>\n",
       "      <td>5.6</td>\n",
       "      <td>1.8</td>\n",
       "      <td>2.0</td>\n",
       "    </tr>\n",
       "    <tr>\n",
       "      <th>104</th>\n",
       "      <td>6.5</td>\n",
       "      <td>3.0</td>\n",
       "      <td>5.8</td>\n",
       "      <td>2.2</td>\n",
       "      <td>2.0</td>\n",
       "    </tr>\n",
       "  </tbody>\n",
       "</table>\n",
       "</div>"
      ],
      "text/plain": [
       "     sepal length (cm)  sepal width (cm)  petal length (cm)  petal width (cm)  \\\n",
       "100                6.3               3.3                6.0               2.5   \n",
       "101                5.8               2.7                5.1               1.9   \n",
       "102                7.1               3.0                5.9               2.1   \n",
       "103                6.3               2.9                5.6               1.8   \n",
       "104                6.5               3.0                5.8               2.2   \n",
       "\n",
       "     target  \n",
       "100     2.0  \n",
       "101     2.0  \n",
       "102     2.0  \n",
       "103     2.0  \n",
       "104     2.0  "
      ]
     },
     "execution_count": 17,
     "metadata": {},
     "output_type": "execute_result"
    }
   ],
   "source": [
    "from sklearn.datasets import load_iris\n",
    "iris = load_iris()\n",
    "iris = pd.DataFrame(data= np.c_[iris['data'], iris['target']],\n",
    "                     columns= iris['feature_names'] + ['target'])\n",
    "## for loop \n",
    "n = 100 # constant global variable that I want to keep set as stated\n",
    "for i in iris.target.unique():\n",
    "    n = iris[iris.target == i]\n",
    "    print(n['petal length (cm)'].mean())\n",
    "\n",
    "n.head() # my constant global variable changed"
   ]
  },
  {
   "cell_type": "code",
   "execution_count": 18,
   "metadata": {},
   "outputs": [
    {
     "name": "stdout",
     "output_type": "stream",
     "text": [
      "[1.4620000000000002, 4.26, 5.5520000000000005]\n",
      "100\n"
     ]
    }
   ],
   "source": [
    "## Using map function\n",
    "n = 100 # constant global variable that I want to keep set as stated\n",
    "foo = [iris[iris.target==i] for i in iris.target.unique()] # The split–apply–combine pattern\n",
    "print(list(map(lambda n:  n['petal length (cm)'].mean() , foo)))\n",
    "print(n) # unaffected"
   ]
  },
  {
   "cell_type": "code",
   "execution_count": 19,
   "metadata": {},
   "outputs": [
    {
     "name": "stdout",
     "output_type": "stream",
     "text": [
      "sepal length (cm)    5.843333\n",
      "sepal width (cm)     3.057333\n",
      "petal length (cm)    3.758000\n",
      "petal width (cm)     1.199333\n",
      "target               1.000000\n",
      "dtype: float64\n",
      "100\n"
     ]
    }
   ],
   "source": [
    "## Using apply function\n",
    "n = 100 # constant global variable that I want to keep set as stated\n",
    "# foo = [iris[iris.target==i] for i in iris.target.unique()] # The split–apply–combine pattern\n",
    "print(iris.apply(np.mean)) \n",
    "print(n) # unaffected"
   ]
  },
  {
   "cell_type": "markdown",
   "metadata": {},
   "source": [
    "Pandas also allows you to use some simple function on DataFrame directly to achieve the same goal, like DataFrame.mean(), DataFrame.sum(), DataFrame.avg() and so on."
   ]
  },
  {
   "cell_type": "code",
   "execution_count": 20,
   "metadata": {},
   "outputs": [
    {
     "name": "stdout",
     "output_type": "stream",
     "text": [
      "sepal length (cm)    5.843333\n",
      "sepal width (cm)     3.057333\n",
      "petal length (cm)    3.758000\n",
      "petal width (cm)     1.199333\n",
      "target               1.000000\n",
      "dtype: float64\n",
      "100\n"
     ]
    }
   ],
   "source": [
    "## Using apply function\n",
    "n = 100 # constant global variable that I want to keep set as stated\n",
    "# foo = [iris[iris.target==i] for i in iris.target.unique()] # The split–apply–combine pattern\n",
    "print(iris.mean()) \n",
    "print(n) # unaffected"
   ]
  },
  {
   "cell_type": "markdown",
   "metadata": {},
   "source": [
    "### map function\n",
    "\n",
    "- works on iterable (list, tuple etc.) \n",
    "- func should be the function we want to apply to the iterable\n",
    "```\n",
    "map(fun, iter)\n",
    "```"
   ]
  },
  {
   "cell_type": "code",
   "execution_count": 21,
   "metadata": {},
   "outputs": [
    {
     "data": {
      "text/plain": [
       "[36, 45]"
      ]
     },
     "execution_count": 21,
     "metadata": {},
     "output_type": "execute_result"
    }
   ],
   "source": [
    "abc = [[i for i in range(9)],[i for i in range(10)]]\n",
    "list(map(sum,abc))"
   ]
  },
  {
   "cell_type": "code",
   "execution_count": 22,
   "metadata": {},
   "outputs": [
    {
     "name": "stdout",
     "output_type": "stream",
     "text": [
      "[0]\n",
      "[0, 1]\n",
      "[0, 1, 2]\n",
      "[0, 1, 2, 3]\n",
      "[0, 1, 2, 3, 4]\n",
      "[0, 1, 2, 3, 4, 5]\n"
     ]
    },
    {
     "data": {
      "text/plain": [
       "[None, None, None, None, None, None]"
      ]
     },
     "execution_count": 22,
     "metadata": {},
     "output_type": "execute_result"
    }
   ],
   "source": [
    "l = [i for i in range(6)]\n",
    "list(map(lambda x: print([i for i in range(x+1)]),l))"
   ]
  },
  {
   "cell_type": "markdown",
   "metadata": {},
   "source": [
    "### apply function\n",
    "- works on pandas.DataFrame\n",
    "- axis is the dimension in which the function is applied, axis=0 means function by column, axis=1 means function by row, default value is 0.\n",
    "- func should be the function we want to apply to the DataFrame\n",
    "\n",
    "```\n",
    "DataFrame.apply(func,axis,...)\n",
    "```"
   ]
  },
  {
   "cell_type": "code",
   "execution_count": 23,
   "metadata": {},
   "outputs": [
    {
     "data": {
      "text/plain": [
       "sepal length (cm)    5.843333\n",
       "sepal width (cm)     3.057333\n",
       "petal length (cm)    3.758000\n",
       "petal width (cm)     1.199333\n",
       "dtype: float64"
      ]
     },
     "execution_count": 23,
     "metadata": {},
     "output_type": "execute_result"
    }
   ],
   "source": [
    "iris.drop(columns = 'target').apply(lambda x: x.sum()/len(x), axis=0)"
   ]
  },
  {
   "cell_type": "markdown",
   "metadata": {},
   "source": [
    "It is the same as"
   ]
  },
  {
   "cell_type": "code",
   "execution_count": 24,
   "metadata": {},
   "outputs": [
    {
     "data": {
      "text/plain": [
       "sepal length (cm)    5.843333\n",
       "sepal width (cm)     3.057333\n",
       "petal length (cm)    3.758000\n",
       "petal width (cm)     1.199333\n",
       "dtype: float64"
      ]
     },
     "execution_count": 24,
     "metadata": {},
     "output_type": "execute_result"
    }
   ],
   "source": [
    "iris.drop(columns = 'target').mean()"
   ]
  },
  {
   "cell_type": "markdown",
   "metadata": {},
   "source": [
    "*Why don't we use *`iris.apply(lambda x: x.sum()/len(x), axis=0)`*?*"
   ]
  },
  {
   "cell_type": "markdown",
   "metadata": {},
   "source": [
    "***\n",
    "## <a name=\"sapply\"></a>Vectorization\n",
    "\n",
    "Vectorization is a concept that will surely speed up computing time (compared to traditional loops) and works to optimize repeated operations. Vectorization occurs when a function or operation takes a vector of values as input, completes the function or operation on each element of the vector, and returns a vector (the same length as the input vector).\n",
    "\n",
    "Summarization occurs when a function or operation takes a vector as input, completes the function or operation, and returns a single value (effectively a summarized value). We discuss summarizing data in Week 10.\n",
    "\n",
    "Arithmetic operators are vectorized in numpy.array.\n",
    "\n",
    "Here are some vectorized functions in numpy: `absolute`, `isnan()`, `sqrt()`, `log()`, `absolute()`. The `ifelse()` function is probably my favorite, because it combines logical operators, loops, and conditional execution to create a single vectorized function.\n",
    "\n",
    "The code below shows an advantage in coding efficiency and readability through the use of vectorization."
   ]
  },
  {
   "cell_type": "code",
   "execution_count": 25,
   "metadata": {},
   "outputs": [
    {
     "name": "stdout",
     "output_type": "stream",
     "text": [
      "['    ' '    ' '    ' '    ' 'Yes!' '    ' 'Yes!' '    ' 'Yes!' 'Yes!']\n"
     ]
    }
   ],
   "source": [
    "import numpy as np\n",
    "#not vectorized\n",
    "np.random.seed(13)\n",
    "n = 10\n",
    "zz = np.array([' '*4]*n)\n",
    "for i in range(n):\n",
    "    z = np.random.normal(size=1)\n",
    "    if abs(z) > 1:\n",
    "        zz[i] = 'Yes!'\n",
    "print(zz)\n"
   ]
  },
  {
   "cell_type": "code",
   "execution_count": 26,
   "metadata": {},
   "outputs": [
    {
     "name": "stdout",
     "output_type": "stream",
     "text": [
      "['    ' '    ' '    ' '    ' 'Yes!' '    ' 'Yes!' '    ' 'Yes!' 'Yes!']\n"
     ]
    }
   ],
   "source": [
    "#vectorized\n",
    "np.random.seed(13)\n",
    "z = np.random.normal(size=10)\n",
    "zz[np.absolute(z)>1] = 'Yes!'\n",
    "print(zz)"
   ]
  },
  {
   "cell_type": "markdown",
   "metadata": {},
   "source": [
    "Working with the City Recall the City of Urbana's [Rental Inspection Grades Listing Data as the original JSON file from the city's website](https://github-dev.cs.illinois.edu/stat440-fa21/stat440-fa21-course-content/raw/master/data/rental-inspections-grades-data06.json), we can finally discuss how to get the information we want: the 1730 rows and 7 columns about the rental properties. One sure-way to do this is to use a `for` loop and we can combine this idea with `if else` statement."
   ]
  },
  {
   "cell_type": "code",
   "execution_count": 28,
   "metadata": {},
   "outputs": [],
   "source": [
    "import urllib.request, json \n",
    "with urllib.request.urlopen(\"https://raw.github-dev.cs.illinois.edu/stat440-fa21/stat440-fa21-course-content/master/data/rental-inspections-grades-data06.json?token=AAABJG234X7BMQKLP3OEZ63BJIWJA\") as url:\n",
    "    data = json.loads(url.read().decode())"
   ]
  },
  {
   "cell_type": "code",
   "execution_count": 29,
   "metadata": {},
   "outputs": [
    {
     "data": {
      "text/plain": [
       "dict_keys(['meta', 'data'])"
      ]
     },
     "execution_count": 29,
     "metadata": {},
     "output_type": "execute_result"
    }
   ],
   "source": [
    "data.keys()"
   ]
  },
  {
   "cell_type": "code",
   "execution_count": 30,
   "metadata": {},
   "outputs": [
    {
     "data": {
      "text/plain": [
       "'1503 South Cottage Grove Avenue'"
      ]
     },
     "execution_count": 30,
     "metadata": {},
     "output_type": "execute_result"
    }
   ],
   "source": [
    "import pandas as pd\n",
    "rd2 = pd.DataFrame(data['data'])\n",
    "rd2.iloc[1729,8]"
   ]
  },
  {
   "cell_type": "code",
   "execution_count": 31,
   "metadata": {},
   "outputs": [
    {
     "data": {
      "text/plain": [
       "'922116353022'"
      ]
     },
     "execution_count": 31,
     "metadata": {},
     "output_type": "execute_result"
    }
   ],
   "source": [
    "rd2.iloc[1729,9]"
   ]
  },
  {
   "cell_type": "code",
   "execution_count": 32,
   "metadata": {},
   "outputs": [
    {
     "data": {
      "text/plain": [
       "'2016-05-18T00:00:00'"
      ]
     },
     "execution_count": 32,
     "metadata": {},
     "output_type": "execute_result"
    }
   ],
   "source": [
    "rd2.iloc[1729,10]"
   ]
  },
  {
   "cell_type": "code",
   "execution_count": 33,
   "metadata": {},
   "outputs": [
    {
     "data": {
      "text/plain": [
       "'Class B'"
      ]
     },
     "execution_count": 33,
     "metadata": {},
     "output_type": "execute_result"
    }
   ],
   "source": [
    "rd2.iloc[1729,11]"
   ]
  },
  {
   "cell_type": "code",
   "execution_count": 34,
   "metadata": {},
   "outputs": [
    {
     "data": {
      "text/plain": [
       "'Expired'"
      ]
     },
     "execution_count": 34,
     "metadata": {},
     "output_type": "execute_result"
    }
   ],
   "source": [
    "rd2.iloc[1729,12]"
   ]
  },
  {
   "cell_type": "code",
   "execution_count": 35,
   "metadata": {},
   "outputs": [],
   "source": [
    "rd2.iloc[1729,13]"
   ]
  },
  {
   "cell_type": "code",
   "execution_count": 36,
   "metadata": {},
   "outputs": [
    {
     "data": {
      "text/plain": [
       "['{\"address\": \"1503 South Cottage Grove Avenue\", \"city\": \"Urbana\", \"state\": \"IL\", \"zip\": \"\"}',\n",
       " '-88.1959',\n",
       " '40.0996',\n",
       " None,\n",
       " False]"
      ]
     },
     "execution_count": 36,
     "metadata": {},
     "output_type": "execute_result"
    }
   ],
   "source": [
    "rd2.iloc[1729,14]"
   ]
  },
  {
   "cell_type": "code",
   "execution_count": 37,
   "metadata": {},
   "outputs": [
    {
     "data": {
      "text/html": [
       "<div>\n",
       "<style scoped>\n",
       "    .dataframe tbody tr th:only-of-type {\n",
       "        vertical-align: middle;\n",
       "    }\n",
       "\n",
       "    .dataframe tbody tr th {\n",
       "        vertical-align: top;\n",
       "    }\n",
       "\n",
       "    .dataframe thead th {\n",
       "        text-align: right;\n",
       "    }\n",
       "</style>\n",
       "<table border=\"1\" class=\"dataframe\">\n",
       "  <thead>\n",
       "    <tr style=\"text-align: right;\">\n",
       "      <th></th>\n",
       "      <th>property_address</th>\n",
       "      <th>parcel_number</th>\n",
       "      <th>inspection_date</th>\n",
       "      <th>grade</th>\n",
       "      <th>license_status</th>\n",
       "      <th>expiration_date</th>\n",
       "      <th>mappable_address</th>\n",
       "    </tr>\n",
       "  </thead>\n",
       "  <tbody>\n",
       "    <tr>\n",
       "      <th>0</th>\n",
       "      <td>607 1/2 Glover Avenue</td>\n",
       "      <td>922116177018</td>\n",
       "      <td>2015-07-24T00:00:00</td>\n",
       "      <td>Class B</td>\n",
       "      <td>Expired</td>\n",
       "      <td>2021-10-14T00:00:00</td>\n",
       "      <td>{\"address\": \"607 1 2 Glover Avenue\", \"city\": \"...</td>\n",
       "    </tr>\n",
       "    <tr>\n",
       "      <th>1</th>\n",
       "      <td>1302 1/2 Hill Street</td>\n",
       "      <td>912107406011</td>\n",
       "      <td>2011-08-17T00:00:00</td>\n",
       "      <td>Class B</td>\n",
       "      <td>Issued</td>\n",
       "      <td>2021-10-14T00:00:00</td>\n",
       "      <td>{\"address\": \"1302 1 2 Hill Street\", \"city\": \"U...</td>\n",
       "    </tr>\n",
       "    <tr>\n",
       "      <th>2</th>\n",
       "      <td>503 Sunny Lane</td>\n",
       "      <td>912115180034</td>\n",
       "      <td>2015-03-26T00:00:00</td>\n",
       "      <td>Class A</td>\n",
       "      <td>Issued</td>\n",
       "      <td>2019-10-14T00:00:00</td>\n",
       "      <td>{\"address\": \"503 Sunny Lane\", \"city\": \"Urbana\"...</td>\n",
       "    </tr>\n",
       "    <tr>\n",
       "      <th>3</th>\n",
       "      <td>212 1/2 Central Avenue</td>\n",
       "      <td>912108383001</td>\n",
       "      <td>2010-04-26T00:00:00</td>\n",
       "      <td>Class B</td>\n",
       "      <td>Issued</td>\n",
       "      <td>None</td>\n",
       "      <td>{\"address\": \"212 1 2 Central Avenue\", \"city\": ...</td>\n",
       "    </tr>\n",
       "    <tr>\n",
       "      <th>4</th>\n",
       "      <td>801 1/2 East Harding Drive</td>\n",
       "      <td>932121153003</td>\n",
       "      <td>2013-06-12T00:00:00</td>\n",
       "      <td>Class B</td>\n",
       "      <td>Issued</td>\n",
       "      <td>2021-10-14T00:00:00</td>\n",
       "      <td>{\"address\": \"801 1 2 East Harding Drive\", \"cit...</td>\n",
       "    </tr>\n",
       "  </tbody>\n",
       "</table>\n",
       "</div>"
      ],
      "text/plain": [
       "             property_address parcel_number      inspection_date    grade  \\\n",
       "0       607 1/2 Glover Avenue  922116177018  2015-07-24T00:00:00  Class B   \n",
       "1        1302 1/2 Hill Street  912107406011  2011-08-17T00:00:00  Class B   \n",
       "2              503 Sunny Lane  912115180034  2015-03-26T00:00:00  Class A   \n",
       "3      212 1/2 Central Avenue  912108383001  2010-04-26T00:00:00  Class B   \n",
       "4  801 1/2 East Harding Drive  932121153003  2013-06-12T00:00:00  Class B   \n",
       "\n",
       "  license_status      expiration_date  \\\n",
       "0        Expired  2021-10-14T00:00:00   \n",
       "1         Issued  2021-10-14T00:00:00   \n",
       "2         Issued  2019-10-14T00:00:00   \n",
       "3         Issued                 None   \n",
       "4         Issued  2021-10-14T00:00:00   \n",
       "\n",
       "                                    mappable_address  \n",
       "0  {\"address\": \"607 1 2 Glover Avenue\", \"city\": \"...  \n",
       "1  {\"address\": \"1302 1 2 Hill Street\", \"city\": \"U...  \n",
       "2  {\"address\": \"503 Sunny Lane\", \"city\": \"Urbana\"...  \n",
       "3  {\"address\": \"212 1 2 Central Avenue\", \"city\": ...  \n",
       "4  {\"address\": \"801 1 2 East Harding Drive\", \"cit...  "
      ]
     },
     "execution_count": 37,
     "metadata": {},
     "output_type": "execute_result"
    }
   ],
   "source": [
    "rd3 = pd.DataFrame(index=range(len(rd2)), columns= ['property_address','parcel_number','inspection_date','grade','license_status',\n",
    "                             'expiration_date','mappable_address'])\n",
    "for i in range(len(rd2)):\n",
    "    for j in range(6):       \n",
    "        rd3.iloc[i,j] = '' if rd2.iloc[i,j+8]!=rd2.iloc[i,j+8] else rd2.iloc[i,j+8]\n",
    "\n",
    "    rd3.iloc[i,6] = '|'.join(s for s in rd2.iloc[i,14][:3] if s)\n",
    "    \n",
    "rd3.head()"
   ]
  },
  {
   "cell_type": "markdown",
   "metadata": {},
   "source": [
    "We can accomplish this same thing with an `apply()` and `if else` condition statement."
   ]
  },
  {
   "cell_type": "code",
   "execution_count": 38,
   "metadata": {},
   "outputs": [
    {
     "data": {
      "text/plain": [
       "0    [607 1/2 Glover Avenue, 922116177018, 2015-07-...\n",
       "1    [1302 1/2 Hill Street, 912107406011, 2011-08-1...\n",
       "2    [503 Sunny Lane, 912115180034, 2015-03-26T00:0...\n",
       "3    [212 1/2 Central Avenue, 912108383001, 2010-04...\n",
       "4    [801 1/2 East Harding Drive, 932121153003, 201...\n",
       "dtype: object"
      ]
     },
     "execution_count": 38,
     "metadata": {},
     "output_type": "execute_result"
    }
   ],
   "source": [
    "def f(item):\n",
    "    l = ['']*7\n",
    "    for j in range(6):\n",
    "        l[j] = '' if item[j+8]!=item[j+8] else item[j+8]\n",
    "    l[6] = '|'.join(s for s in item[14][:3] if s)\n",
    "    return l\n",
    "rd4 = rd2.apply(f,axis=1)\n",
    "rd4.head()"
   ]
  },
  {
   "cell_type": "markdown",
   "metadata": {},
   "source": [
    "#### END OF NOTES"
   ]
  }
 ],
 "metadata": {
  "kernelspec": {
   "display_name": "Python 3",
   "language": "python",
   "name": "python3"
  },
  "language_info": {
   "codemirror_mode": {
    "name": "ipython",
    "version": 3
   },
   "file_extension": ".py",
   "mimetype": "text/x-python",
   "name": "python",
   "nbconvert_exporter": "python",
   "pygments_lexer": "ipython3",
   "version": "3.7.6"
  }
 },
 "nbformat": 4,
 "nbformat_minor": 4
}
