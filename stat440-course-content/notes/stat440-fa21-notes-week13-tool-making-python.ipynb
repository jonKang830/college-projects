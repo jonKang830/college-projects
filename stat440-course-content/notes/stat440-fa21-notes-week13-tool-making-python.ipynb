{
 "cells": [
  {
   "cell_type": "markdown",
   "metadata": {},
   "source": [
    "# STAT 440 Statistical Data Management - Fall 2021\n",
    "## Week 13 Notes\n",
    "### Created by Christopher Kinson and Huiqin Xin\n",
    "\n",
    "\n",
    "***\n",
    "\n",
    "\n",
    "## Table of Contents\n",
    "\n",
    "- [Introduction to R Chapter 10](#introduction-to-r-chapter10)\n",
    "  - [Custom Functions AKA Tools](#functions)\n",
    "  \n",
    "\n",
    "\n",
    "***\n",
    "\n",
    "## <a name=\"introduction-to-r-chapter10\"></a>Introduction to R Chapter 10\n",
    "\n",
    "Below, I introduce the idea of creating your own functions and data management tools. The bulk of this material is covered in STAT 385. One reference textbook for that course is [An Introduction to R. Venables, Smith and the R Core Team](https://cran.r-project.org/doc/manuals/r-release/R-intro.pdf). Another useful reference textbook for that course is [Hands-On Programming with R by G. Grolemund's](https://rstudio-education.github.io/hopr/). **For python users, please check out [https://www.w3schools.com/python/python_functions.asp](https://www.w3schools.com/python/python_functions.asp).**\n",
    "\n",
    "The crux of what you do as a programmer is create your own tools. These tools can greatly speed up data analysis, data wrangling, data visualization, modeling, etc. They speed up the processes because we can eliminate very specific redundant code, and utilize general flexible code that works for multiple uses and cases. \n",
    "\n",
    "### <a name=\"functions\"></a>Custom Functions AKA Tools\n",
    "\n",
    "Python allows users to create their own functions (i.e. user-defined functions) AKA tools using the `def` keyword. User-defined functions can be created with \n",
    "\n",
    "- \\*arguments that may be named or unnamed; think of arguments as inputs \n",
    "\n",
    "- expressions which are code that perform the actions; think of expressions as the body of the function\n",
    "\n",
    "- braces which wrap around the expressions\n",
    "\n",
    "- \\*optional returned objects as outputs\n",
    "\n",
    "```\n",
    "def newfunction(namedarg):\n",
    "  expressions\n",
    "```\n",
    "\n",
    "Using the function to see the results becomes:\n",
    "\n",
    "```\n",
    "newfunction(input)\n",
    "```\n",
    "\n",
    "Your custom functions can be complicated or simple. It will depend on the nature of what you want to build and your programming skill set. Here are some examples.\n",
    "\n",
    "1. A $t$-statistic for the two-sample case (found in the Introduction to R textbook)"
   ]
  },
  {
   "cell_type": "code",
   "execution_count": 39,
   "metadata": {},
   "outputs": [
    {
     "data": {
      "text/plain": [
       "1.2314817318210705"
      ]
     },
     "execution_count": 39,
     "metadata": {},
     "output_type": "execute_result"
    }
   ],
   "source": [
    "import numpy as np\n",
    "import math\n",
    "def twosam(y1,y2):\n",
    "    n1, n2 = len(y1), len(y2)\n",
    "    yb1, yb2 = np.mean(y1), np.mean(y2)\n",
    "    s1, s2 = np.var(y1), np.var(y2)\n",
    "    s = ((n1-1)*s1 + (n2-1)*s2) / (n1+n2-2)\n",
    "    tst = (yb1-yb2)/math.sqrt(s*(1/n1+1/n2))\n",
    "    return tst\n",
    "twosam(np.random.normal(size=20),np.random.normal(size=20))"
   ]
  },
  {
   "cell_type": "markdown",
   "metadata": {},
   "source": [
    "2. An $n$-dimensional correlation matrix with exchangeable correlation $\\rho$"
   ]
  },
  {
   "cell_type": "code",
   "execution_count": 40,
   "metadata": {},
   "outputs": [
    {
     "data": {
      "text/plain": [
       "array([[1. , 0.5, 0.5, 0.5, 0.5],\n",
       "       [0.5, 1. , 0.5, 0.5, 0.5],\n",
       "       [0.5, 0.5, 1. , 0.5, 0.5],\n",
       "       [0.5, 0.5, 0.5, 1. , 0.5],\n",
       "       [0.5, 0.5, 0.5, 0.5, 1. ]])"
      ]
     },
     "execution_count": 40,
     "metadata": {},
     "output_type": "execute_result"
    }
   ],
   "source": [
    "def exc(n,rho):\n",
    "    mat = np.full((n,n),rho)\n",
    "    for i in range(n):\n",
    "        mat[i,i]=1\n",
    "    return mat\n",
    "exc(5,0.5)"
   ]
  },
  {
   "cell_type": "markdown",
   "metadata": {},
   "source": [
    "3. In STAT 385, we discussed card shuffling and the concept of randomization. Using the Uno deck of cards created as a dataset, we can create a function that shuffles the deck. This function is general because we supply the deck, and we do not require the function to use only the cards from those notes.\n"
   ]
  },
  {
   "cell_type": "code",
   "execution_count": 41,
   "metadata": {},
   "outputs": [
    {
     "data": {
      "text/html": [
       "<div>\n",
       "<style scoped>\n",
       "    .dataframe tbody tr th:only-of-type {\n",
       "        vertical-align: middle;\n",
       "    }\n",
       "\n",
       "    .dataframe tbody tr th {\n",
       "        vertical-align: top;\n",
       "    }\n",
       "\n",
       "    .dataframe thead th {\n",
       "        text-align: right;\n",
       "    }\n",
       "</style>\n",
       "<table border=\"1\" class=\"dataframe\">\n",
       "  <thead>\n",
       "    <tr style=\"text-align: right;\">\n",
       "      <th></th>\n",
       "      <th>face</th>\n",
       "      <th>color</th>\n",
       "      <th>point</th>\n",
       "    </tr>\n",
       "  </thead>\n",
       "  <tbody>\n",
       "    <tr>\n",
       "      <td>91</td>\n",
       "      <td>7</td>\n",
       "      <td>yellow</td>\n",
       "      <td>7</td>\n",
       "    </tr>\n",
       "    <tr>\n",
       "      <td>32</td>\n",
       "      <td>7</td>\n",
       "      <td>red</td>\n",
       "      <td>7</td>\n",
       "    </tr>\n",
       "    <tr>\n",
       "      <td>46</td>\n",
       "      <td>Draw+2</td>\n",
       "      <td>green</td>\n",
       "      <td>20</td>\n",
       "    </tr>\n",
       "    <tr>\n",
       "      <td>100</td>\n",
       "      <td>Wild</td>\n",
       "      <td>any</td>\n",
       "      <td>50</td>\n",
       "    </tr>\n",
       "    <tr>\n",
       "      <td>82</td>\n",
       "      <td>7</td>\n",
       "      <td>green</td>\n",
       "      <td>7</td>\n",
       "    </tr>\n",
       "    <tr>\n",
       "      <td>...</td>\n",
       "      <td>...</td>\n",
       "      <td>...</td>\n",
       "      <td>...</td>\n",
       "    </tr>\n",
       "    <tr>\n",
       "      <td>98</td>\n",
       "      <td>Reverse</td>\n",
       "      <td>green</td>\n",
       "      <td>20</td>\n",
       "    </tr>\n",
       "    <tr>\n",
       "      <td>103</td>\n",
       "      <td>WildDraw+4</td>\n",
       "      <td>any</td>\n",
       "      <td>50</td>\n",
       "    </tr>\n",
       "    <tr>\n",
       "      <td>39</td>\n",
       "      <td>5</td>\n",
       "      <td>yellow</td>\n",
       "      <td>5</td>\n",
       "    </tr>\n",
       "    <tr>\n",
       "      <td>44</td>\n",
       "      <td>Skip</td>\n",
       "      <td>red</td>\n",
       "      <td>20</td>\n",
       "    </tr>\n",
       "    <tr>\n",
       "      <td>38</td>\n",
       "      <td>4</td>\n",
       "      <td>green</td>\n",
       "      <td>4</td>\n",
       "    </tr>\n",
       "  </tbody>\n",
       "</table>\n",
       "<p>108 rows × 3 columns</p>\n",
       "</div>"
      ],
      "text/plain": [
       "           face   color  point\n",
       "91            7  yellow      7\n",
       "32            7     red      7\n",
       "46       Draw+2   green     20\n",
       "100        Wild     any     50\n",
       "82            7   green      7\n",
       "..          ...     ...    ...\n",
       "98      Reverse   green     20\n",
       "103  WildDraw+4     any     50\n",
       "39            5  yellow      5\n",
       "44         Skip     red     20\n",
       "38            4   green      4\n",
       "\n",
       "[108 rows x 3 columns]"
      ]
     },
     "execution_count": 41,
     "metadata": {},
     "output_type": "execute_result"
    }
   ],
   "source": [
    "import pandas as pd\n",
    "import random\n",
    "cards_faces = (list(range(10)) + list(range(1,10)) + ['Skip','Reverse','Draw+2']*2)*4 + ['Wild','WildDraw+4']*4\n",
    "cards_colors = [\"red\",\"blue\",\"green\",\"yellow\"]*25 + ['any']*8\n",
    "cards_points = (list(range(10)) + list(range(1,10)) + [20]*6)*4 + [50]*8\n",
    "cards_tibble = pd.DataFrame(data={'face':cards_faces, 'color':cards_colors, 'point': cards_points})\n",
    "\n",
    "def shuffle(deck):\n",
    "    if not isinstance(deck, pd.DataFrame):\n",
    "        return \"Not a data frame. Supply a data frame as input.\"\n",
    "    else:\n",
    "        n = deck.shape[0]\n",
    "        return deck.iloc[random.sample(list(range(n)),n)]\n",
    "shuffle(cards_tibble)"
   ]
  },
  {
   "cell_type": "markdown",
   "metadata": {},
   "source": [
    "#### END OF NOTES"
   ]
  }
 ],
 "metadata": {
  "kernelspec": {
   "display_name": "Python 3 (ipykernel)",
   "language": "python",
   "name": "python3"
  },
  "language_info": {
   "codemirror_mode": {
    "name": "ipython",
    "version": 3
   },
   "file_extension": ".py",
   "mimetype": "text/x-python",
   "name": "python",
   "nbconvert_exporter": "python",
   "pygments_lexer": "ipython3",
   "version": "3.8.11"
  }
 },
 "nbformat": 4,
 "nbformat_minor": 4
}
